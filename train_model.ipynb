{
 "cells": [
  {
   "cell_type": "code",
   "execution_count": 11,
   "id": "import-deps",
   "metadata": {},
   "outputs": [],
   "source": [
    "# Import required libraries\n",
    "import pandas as pd\n",
    "import numpy as np\n",
    "from sklearn.model_selection import train_test_split\n",
    "from sklearn.linear_model import LogisticRegression\n",
    "from sklearn.metrics import accuracy_score, confusion_matrix, ConfusionMatrixDisplay\n",
    "import matplotlib.pyplot as plt\n",
    "from xgboost import XGBClassifier, XGBRegressor"
   ]
  },
  {
   "cell_type": "code",
   "execution_count": 12,
   "id": "load-data",
   "metadata": {},
   "outputs": [],
   "source": [
    "# Load preprocessed data (assumes a CSV file named 'prepared_data.csv' in the same folder)\n",
    "data = pd.read_csv('codeforces_feature_dataset.csv')\n",
    "\n",
    "# Assume the last column is the target variable\n",
    "X = data.iloc[:, :-1]\n",
    "y = data.iloc[:, -1]\n"
   ]
  },
  {
   "cell_type": "code",
   "execution_count": 13,
   "id": "24008631",
   "metadata": {},
   "outputs": [
    {
     "data": {
      "text/plain": [
       "Index(['user_handle', 'submission_time', 'problem_contestId', 'problem_index',\n",
       "       'problem_rating', 'rating_diff', 'user_rating', 'user_success_rate',\n",
       "       'user_total_submissions', 'avg_tag_success_rate', 'time_since_last_sub',\n",
       "       'recent_sub_count', 'abs_difficulty_offset'],\n",
       "      dtype='object')"
      ]
     },
     "execution_count": 13,
     "metadata": {},
     "output_type": "execute_result"
    }
   ],
   "source": [
    "X.columns\n"
   ]
  },
  {
   "cell_type": "code",
   "execution_count": 22,
   "id": "4808b03e",
   "metadata": {},
   "outputs": [],
   "source": [
    "# only this filtered columns allowed\n",
    "allowed_columns = [\n",
    "       'problem_rating', 'rating_diff', 'user_rating', 'user_success_rate',\n",
    "       'user_total_submissions', 'avg_tag_success_rate', 'time_since_last_sub',\n",
    "       'recent_sub_count', 'abs_difficulty_offset']\n",
    "encode_columns = ['problem_index']\n",
    "\n",
    "X = X[allowed_columns]\n",
    "# X = pd.get_dummies(X, columns=encode_columns, drop_first=True)\n",
    "\n"
   ]
  },
  {
   "cell_type": "code",
   "execution_count": 23,
   "id": "247a4bbe",
   "metadata": {},
   "outputs": [
    {
     "data": {
      "text/html": [
       "<div>\n",
       "<style scoped>\n",
       "    .dataframe tbody tr th:only-of-type {\n",
       "        vertical-align: middle;\n",
       "    }\n",
       "\n",
       "    .dataframe tbody tr th {\n",
       "        vertical-align: top;\n",
       "    }\n",
       "\n",
       "    .dataframe thead th {\n",
       "        text-align: right;\n",
       "    }\n",
       "</style>\n",
       "<table border=\"1\" class=\"dataframe\">\n",
       "  <thead>\n",
       "    <tr style=\"text-align: right;\">\n",
       "      <th></th>\n",
       "      <th>problem_rating</th>\n",
       "      <th>rating_diff</th>\n",
       "      <th>user_rating</th>\n",
       "      <th>user_success_rate</th>\n",
       "      <th>user_total_submissions</th>\n",
       "      <th>avg_tag_success_rate</th>\n",
       "      <th>time_since_last_sub</th>\n",
       "      <th>recent_sub_count</th>\n",
       "      <th>abs_difficulty_offset</th>\n",
       "    </tr>\n",
       "  </thead>\n",
       "  <tbody>\n",
       "    <tr>\n",
       "      <th>0</th>\n",
       "      <td>2100.0</td>\n",
       "      <td>274.0</td>\n",
       "      <td>2374.0</td>\n",
       "      <td>0.336095</td>\n",
       "      <td>1931</td>\n",
       "      <td>0.277597</td>\n",
       "      <td>217.0</td>\n",
       "      <td>378</td>\n",
       "      <td>274.0</td>\n",
       "    </tr>\n",
       "    <tr>\n",
       "      <th>1</th>\n",
       "      <td>2100.0</td>\n",
       "      <td>274.0</td>\n",
       "      <td>2374.0</td>\n",
       "      <td>0.336095</td>\n",
       "      <td>1931</td>\n",
       "      <td>0.279013</td>\n",
       "      <td>78.0</td>\n",
       "      <td>377</td>\n",
       "      <td>274.0</td>\n",
       "    </tr>\n",
       "    <tr>\n",
       "      <th>2</th>\n",
       "      <td>2100.0</td>\n",
       "      <td>274.0</td>\n",
       "      <td>2374.0</td>\n",
       "      <td>0.336095</td>\n",
       "      <td>1931</td>\n",
       "      <td>0.280444</td>\n",
       "      <td>1412.0</td>\n",
       "      <td>376</td>\n",
       "      <td>274.0</td>\n",
       "    </tr>\n",
       "    <tr>\n",
       "      <th>3</th>\n",
       "      <td>2100.0</td>\n",
       "      <td>274.0</td>\n",
       "      <td>2374.0</td>\n",
       "      <td>0.336095</td>\n",
       "      <td>1931</td>\n",
       "      <td>0.281891</td>\n",
       "      <td>1964.0</td>\n",
       "      <td>375</td>\n",
       "      <td>274.0</td>\n",
       "    </tr>\n",
       "    <tr>\n",
       "      <th>4</th>\n",
       "      <td>2400.0</td>\n",
       "      <td>-26.0</td>\n",
       "      <td>2374.0</td>\n",
       "      <td>0.336095</td>\n",
       "      <td>1931</td>\n",
       "      <td>0.262152</td>\n",
       "      <td>7494.0</td>\n",
       "      <td>374</td>\n",
       "      <td>26.0</td>\n",
       "    </tr>\n",
       "    <tr>\n",
       "      <th>...</th>\n",
       "      <td>...</td>\n",
       "      <td>...</td>\n",
       "      <td>...</td>\n",
       "      <td>...</td>\n",
       "      <td>...</td>\n",
       "      <td>...</td>\n",
       "      <td>...</td>\n",
       "      <td>...</td>\n",
       "      <td>...</td>\n",
       "    </tr>\n",
       "    <tr>\n",
       "      <th>65909</th>\n",
       "      <td>2200.0</td>\n",
       "      <td>-1011.0</td>\n",
       "      <td>1189.0</td>\n",
       "      <td>0.422680</td>\n",
       "      <td>97</td>\n",
       "      <td>0.391473</td>\n",
       "      <td>198.0</td>\n",
       "      <td>43</td>\n",
       "      <td>1011.0</td>\n",
       "    </tr>\n",
       "    <tr>\n",
       "      <th>65910</th>\n",
       "      <td>2200.0</td>\n",
       "      <td>-1011.0</td>\n",
       "      <td>1189.0</td>\n",
       "      <td>0.422680</td>\n",
       "      <td>97</td>\n",
       "      <td>0.412235</td>\n",
       "      <td>2581.0</td>\n",
       "      <td>42</td>\n",
       "      <td>1011.0</td>\n",
       "    </tr>\n",
       "    <tr>\n",
       "      <th>65911</th>\n",
       "      <td>1300.0</td>\n",
       "      <td>-111.0</td>\n",
       "      <td>1189.0</td>\n",
       "      <td>0.422680</td>\n",
       "      <td>97</td>\n",
       "      <td>0.436388</td>\n",
       "      <td>28.0</td>\n",
       "      <td>41</td>\n",
       "      <td>111.0</td>\n",
       "    </tr>\n",
       "    <tr>\n",
       "      <th>65912</th>\n",
       "      <td>1300.0</td>\n",
       "      <td>-111.0</td>\n",
       "      <td>1189.0</td>\n",
       "      <td>0.422680</td>\n",
       "      <td>97</td>\n",
       "      <td>0.447398</td>\n",
       "      <td>158.0</td>\n",
       "      <td>40</td>\n",
       "      <td>111.0</td>\n",
       "    </tr>\n",
       "    <tr>\n",
       "      <th>65913</th>\n",
       "      <td>1300.0</td>\n",
       "      <td>-111.0</td>\n",
       "      <td>1189.0</td>\n",
       "      <td>0.422680</td>\n",
       "      <td>97</td>\n",
       "      <td>0.459002</td>\n",
       "      <td>53039.0</td>\n",
       "      <td>39</td>\n",
       "      <td>111.0</td>\n",
       "    </tr>\n",
       "  </tbody>\n",
       "</table>\n",
       "<p>65914 rows × 9 columns</p>\n",
       "</div>"
      ],
      "text/plain": [
       "       problem_rating  rating_diff  user_rating  user_success_rate  \\\n",
       "0              2100.0        274.0       2374.0           0.336095   \n",
       "1              2100.0        274.0       2374.0           0.336095   \n",
       "2              2100.0        274.0       2374.0           0.336095   \n",
       "3              2100.0        274.0       2374.0           0.336095   \n",
       "4              2400.0        -26.0       2374.0           0.336095   \n",
       "...               ...          ...          ...                ...   \n",
       "65909          2200.0      -1011.0       1189.0           0.422680   \n",
       "65910          2200.0      -1011.0       1189.0           0.422680   \n",
       "65911          1300.0       -111.0       1189.0           0.422680   \n",
       "65912          1300.0       -111.0       1189.0           0.422680   \n",
       "65913          1300.0       -111.0       1189.0           0.422680   \n",
       "\n",
       "       user_total_submissions  avg_tag_success_rate  time_since_last_sub  \\\n",
       "0                        1931              0.277597                217.0   \n",
       "1                        1931              0.279013                 78.0   \n",
       "2                        1931              0.280444               1412.0   \n",
       "3                        1931              0.281891               1964.0   \n",
       "4                        1931              0.262152               7494.0   \n",
       "...                       ...                   ...                  ...   \n",
       "65909                      97              0.391473                198.0   \n",
       "65910                      97              0.412235               2581.0   \n",
       "65911                      97              0.436388                 28.0   \n",
       "65912                      97              0.447398                158.0   \n",
       "65913                      97              0.459002              53039.0   \n",
       "\n",
       "       recent_sub_count  abs_difficulty_offset  \n",
       "0                   378                  274.0  \n",
       "1                   377                  274.0  \n",
       "2                   376                  274.0  \n",
       "3                   375                  274.0  \n",
       "4                   374                   26.0  \n",
       "...                 ...                    ...  \n",
       "65909                43                 1011.0  \n",
       "65910                42                 1011.0  \n",
       "65911                41                  111.0  \n",
       "65912                40                  111.0  \n",
       "65913                39                  111.0  \n",
       "\n",
       "[65914 rows x 9 columns]"
      ]
     },
     "execution_count": 23,
     "metadata": {},
     "output_type": "execute_result"
    }
   ],
   "source": [
    "X"
   ]
  },
  {
   "cell_type": "code",
   "execution_count": 24,
   "id": "3bb803a6",
   "metadata": {},
   "outputs": [
    {
     "data": {
      "text/plain": [
       "problem_rating            10454\n",
       "rating_diff               11088\n",
       "user_rating                2122\n",
       "user_success_rate             0\n",
       "user_total_submissions        0\n",
       "avg_tag_success_rate       7296\n",
       "time_since_last_sub          92\n",
       "recent_sub_count              0\n",
       "abs_difficulty_offset     11088\n",
       "dtype: int64"
      ]
     },
     "execution_count": 24,
     "metadata": {},
     "output_type": "execute_result"
    }
   ],
   "source": [
    "X.isna().sum()"
   ]
  },
  {
   "cell_type": "code",
   "execution_count": 26,
   "id": "train-model",
   "metadata": {},
   "outputs": [
    {
     "name": "stdout",
     "output_type": "stream",
     "text": [
      "Model accuracy: 0.69\n"
     ]
    }
   ],
   "source": [
    "# Split data into training and test sets\n",
    "X_train, X_test, y_train, y_test = train_test_split(X, y, test_size=0.3, random_state=42, stratify=y)\n",
    "\n",
    "# Train a Logistic Regression model\n",
    "model = XGBClassifier()\n",
    "model.fit(X_train, y_train)\n",
    "\n",
    "# Predict on test set\n",
    "y_pred = model.predict(X_test)\n",
    "from sklearn.metrics import r2_score\n",
    "\n",
    "# # Evaluate R² score instead of accuracy\n",
    "# r2 = r2_score(y_test, y_pred)\n",
    "# print(f\"Model R² score: {r2:.2f}\")\n",
    "\n",
    "\n",
    "# Evaluate accuracy\n",
    "accuracy = accuracy_score(y_test, y_pred)\n",
    "print(f\"Model accuracy: {accuracy:.2f}\")"
   ]
  },
  {
   "cell_type": "code",
   "execution_count": 21,
   "id": "confusion-matrix",
   "metadata": {},
   "outputs": [
    {
     "name": "stdout",
     "output_type": "stream",
     "text": [
      "              precision    recall  f1-score   support\n",
      "\n",
      "           0       0.69      0.77      0.72     10573\n",
      "           1       0.69      0.60      0.64      9202\n",
      "\n",
      "    accuracy                           0.69     19775\n",
      "   macro avg       0.69      0.68      0.68     19775\n",
      "weighted avg       0.69      0.69      0.69     19775\n",
      "\n"
     ]
    },
    {
     "data": {
      "image/png": "[encoded data removed]",
      "text/plain": [
       "<Figure size 640x480 with 2 Axes>"
      ]
     },
     "metadata": {},
     "output_type": "display_data"
    }
   ],
   "source": [
    "#  print classification report\n",
    "from sklearn.metrics import classification_report\n",
    "print(classification_report(y_test, y_pred))\n",
    "\n",
    "\n",
    "# Compute and display the confusion matrix\n",
    "cm = confusion_matrix(y_test, y_pred)\n",
    "disp = ConfusionMatrixDisplay(confusion_matrix=cm)\n",
    "disp.plot(cmap=plt.cm.Blues)\n",
    "plt.title('Confusion Matrix')\n",
    "plt.show()\n"
   ]
  }
 ],
 "metadata": {
  "kernelspec": {
   "display_name": "venv",
   "language": "python",
   "name": "python3"
  },
  "language_info": {
   "codemirror_mode": {
    "name": "ipython",
    "version": 3
   },
   "file_extension": ".py",
   "mimetype": "text/x-python",
   "name": "python",
   "nbconvert_exporter": "python",
   "pygments_lexer": "ipython3",
   "version": "3.12.9"
  }
 },
 "nbformat": 4,
 "nbformat_minor": 5
}
