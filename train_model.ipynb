{
 "cells": [
  {
   "cell_type": "code",
   "execution_count": 11,
   "id": "import-deps",
   "metadata": {},
   "outputs": [],
   "source": [
    "# Import required libraries\n",
    "import pandas as pd\n",
    "import numpy as np\n",
    "from sklearn.model_selection import train_test_split\n",
    "from sklearn.linear_model import LogisticRegression\n",
    "from sklearn.metrics import accuracy_score, confusion_matrix, ConfusionMatrixDisplay\n",
    "import matplotlib.pyplot as plt\n",
    "from xgboost import XGBClassifier, XGBRegressor"
   ]
  },
  {
   "cell_type": "code",
   "execution_count": 41,
   "id": "load-data",
   "metadata": {},
   "outputs": [],
   "source": [
    "# Load preprocessed data (assumes a CSV file named 'prepared_data.csv' in the same folder)\n",
    "data = pd.read_csv('codeforces_feature_dataset_v1.1.csv')\n",
    "\n",
    "\n",
    "# drop all rows with missing values\n",
    "data = data.dropna()\n",
    "\n",
    "# Assume the last column is the target variable\n",
    "X = data.iloc[:, :-1]\n",
    "y = data.iloc[:, -1]\n"
   ]
  },
  {
   "cell_type": "code",
   "execution_count": 42,
   "id": "24008631",
   "metadata": {},
   "outputs": [
    {
     "data": {
      "text/plain": [
       "Index(['user_handle', 'submission_time', 'problem_contestId', 'problem_index',\n",
       "       'problem_rating', 'rating_diff', 'user_rating', 'user_success_rate',\n",
       "       'user_total_submissions', 'avg_tag_success_rate', 'time_since_last_sub',\n",
       "       'recent_sub_count', 'abs_difficulty_offset'],\n",
       "      dtype='object')"
      ]
     },
     "execution_count": 42,
     "metadata": {},
     "output_type": "execute_result"
    }
   ],
   "source": [
    "X.columns\n"
   ]
  },
  {
   "cell_type": "code",
   "execution_count": 43,
   "id": "4808b03e",
   "metadata": {},
   "outputs": [],
   "source": [
    "# only this filtered columns allowed\n",
    "allowed_columns = [\n",
    "       'problem_rating', 'rating_diff', 'user_rating', 'user_success_rate',\n",
    "       'user_total_submissions', 'avg_tag_success_rate', 'time_since_last_sub',\n",
    "       'recent_sub_count', 'abs_difficulty_offset']\n",
    "encode_columns = ['problem_index']\n",
    "\n",
    "X = X[allowed_columns]\n",
    "# X = pd.get_dummies(X, columns=encode_columns, drop_first=True)\n",
    "\n"
   ]
  },
  {
   "cell_type": "code",
   "execution_count": 44,
   "id": "247a4bbe",
   "metadata": {},
   "outputs": [
    {
     "data": {
      "text/html": [
       "<div>\n",
       "<style scoped>\n",
       "    .dataframe tbody tr th:only-of-type {\n",
       "        vertical-align: middle;\n",
       "    }\n",
       "\n",
       "    .dataframe tbody tr th {\n",
       "        vertical-align: top;\n",
       "    }\n",
       "\n",
       "    .dataframe thead th {\n",
       "        text-align: right;\n",
       "    }\n",
       "</style>\n",
       "<table border=\"1\" class=\"dataframe\">\n",
       "  <thead>\n",
       "    <tr style=\"text-align: right;\">\n",
       "      <th></th>\n",
       "      <th>problem_rating</th>\n",
       "      <th>rating_diff</th>\n",
       "      <th>user_rating</th>\n",
       "      <th>user_success_rate</th>\n",
       "      <th>user_total_submissions</th>\n",
       "      <th>avg_tag_success_rate</th>\n",
       "      <th>time_since_last_sub</th>\n",
       "      <th>recent_sub_count</th>\n",
       "      <th>abs_difficulty_offset</th>\n",
       "    </tr>\n",
       "  </thead>\n",
       "  <tbody>\n",
       "    <tr>\n",
       "      <th>0</th>\n",
       "      <td>3000.0</td>\n",
       "      <td>841.0</td>\n",
       "      <td>3841.0</td>\n",
       "      <td>0.77600</td>\n",
       "      <td>1000</td>\n",
       "      <td>0.745116</td>\n",
       "      <td>1806.0</td>\n",
       "      <td>27</td>\n",
       "      <td>841.0</td>\n",
       "    </tr>\n",
       "    <tr>\n",
       "      <th>1</th>\n",
       "      <td>3500.0</td>\n",
       "      <td>341.0</td>\n",
       "      <td>3841.0</td>\n",
       "      <td>0.77600</td>\n",
       "      <td>1000</td>\n",
       "      <td>0.827119</td>\n",
       "      <td>3035.0</td>\n",
       "      <td>26</td>\n",
       "      <td>341.0</td>\n",
       "    </tr>\n",
       "    <tr>\n",
       "      <th>2</th>\n",
       "      <td>2900.0</td>\n",
       "      <td>941.0</td>\n",
       "      <td>3841.0</td>\n",
       "      <td>0.77600</td>\n",
       "      <td>1000</td>\n",
       "      <td>0.824420</td>\n",
       "      <td>933.0</td>\n",
       "      <td>25</td>\n",
       "      <td>941.0</td>\n",
       "    </tr>\n",
       "    <tr>\n",
       "      <th>3</th>\n",
       "      <td>2000.0</td>\n",
       "      <td>1841.0</td>\n",
       "      <td>3841.0</td>\n",
       "      <td>0.77600</td>\n",
       "      <td>1000</td>\n",
       "      <td>0.739176</td>\n",
       "      <td>419.0</td>\n",
       "      <td>24</td>\n",
       "      <td>1841.0</td>\n",
       "    </tr>\n",
       "    <tr>\n",
       "      <th>4</th>\n",
       "      <td>2200.0</td>\n",
       "      <td>1641.0</td>\n",
       "      <td>3841.0</td>\n",
       "      <td>0.77600</td>\n",
       "      <td>1000</td>\n",
       "      <td>0.771850</td>\n",
       "      <td>150.0</td>\n",
       "      <td>23</td>\n",
       "      <td>1641.0</td>\n",
       "    </tr>\n",
       "    <tr>\n",
       "      <th>...</th>\n",
       "      <td>...</td>\n",
       "      <td>...</td>\n",
       "      <td>...</td>\n",
       "      <td>...</td>\n",
       "      <td>...</td>\n",
       "      <td>...</td>\n",
       "      <td>...</td>\n",
       "      <td>...</td>\n",
       "      <td>...</td>\n",
       "    </tr>\n",
       "    <tr>\n",
       "      <th>140802</th>\n",
       "      <td>2400.0</td>\n",
       "      <td>-384.0</td>\n",
       "      <td>2016.0</td>\n",
       "      <td>0.53527</td>\n",
       "      <td>241</td>\n",
       "      <td>0.500000</td>\n",
       "      <td>216958.0</td>\n",
       "      <td>6</td>\n",
       "      <td>384.0</td>\n",
       "    </tr>\n",
       "    <tr>\n",
       "      <th>140803</th>\n",
       "      <td>2000.0</td>\n",
       "      <td>16.0</td>\n",
       "      <td>2016.0</td>\n",
       "      <td>0.53527</td>\n",
       "      <td>241</td>\n",
       "      <td>0.000000</td>\n",
       "      <td>50.0</td>\n",
       "      <td>5</td>\n",
       "      <td>16.0</td>\n",
       "    </tr>\n",
       "    <tr>\n",
       "      <th>140804</th>\n",
       "      <td>2000.0</td>\n",
       "      <td>16.0</td>\n",
       "      <td>2016.0</td>\n",
       "      <td>0.53527</td>\n",
       "      <td>241</td>\n",
       "      <td>0.000000</td>\n",
       "      <td>725.0</td>\n",
       "      <td>4</td>\n",
       "      <td>16.0</td>\n",
       "    </tr>\n",
       "    <tr>\n",
       "      <th>140805</th>\n",
       "      <td>2000.0</td>\n",
       "      <td>16.0</td>\n",
       "      <td>2016.0</td>\n",
       "      <td>0.53527</td>\n",
       "      <td>241</td>\n",
       "      <td>0.000000</td>\n",
       "      <td>278.0</td>\n",
       "      <td>3</td>\n",
       "      <td>16.0</td>\n",
       "    </tr>\n",
       "    <tr>\n",
       "      <th>140807</th>\n",
       "      <td>1600.0</td>\n",
       "      <td>416.0</td>\n",
       "      <td>2016.0</td>\n",
       "      <td>0.53527</td>\n",
       "      <td>241</td>\n",
       "      <td>0.000000</td>\n",
       "      <td>39812.0</td>\n",
       "      <td>1</td>\n",
       "      <td>416.0</td>\n",
       "    </tr>\n",
       "  </tbody>\n",
       "</table>\n",
       "<p>104569 rows × 9 columns</p>\n",
       "</div>"
      ],
      "text/plain": [
       "        problem_rating  rating_diff  user_rating  user_success_rate  \\\n",
       "0               3000.0        841.0       3841.0            0.77600   \n",
       "1               3500.0        341.0       3841.0            0.77600   \n",
       "2               2900.0        941.0       3841.0            0.77600   \n",
       "3               2000.0       1841.0       3841.0            0.77600   \n",
       "4               2200.0       1641.0       3841.0            0.77600   \n",
       "...                ...          ...          ...                ...   \n",
       "140802          2400.0       -384.0       2016.0            0.53527   \n",
       "140803          2000.0         16.0       2016.0            0.53527   \n",
       "140804          2000.0         16.0       2016.0            0.53527   \n",
       "140805          2000.0         16.0       2016.0            0.53527   \n",
       "140807          1600.0        416.0       2016.0            0.53527   \n",
       "\n",
       "        user_total_submissions  avg_tag_success_rate  time_since_last_sub  \\\n",
       "0                         1000              0.745116               1806.0   \n",
       "1                         1000              0.827119               3035.0   \n",
       "2                         1000              0.824420                933.0   \n",
       "3                         1000              0.739176                419.0   \n",
       "4                         1000              0.771850                150.0   \n",
       "...                        ...                   ...                  ...   \n",
       "140802                     241              0.500000             216958.0   \n",
       "140803                     241              0.000000                 50.0   \n",
       "140804                     241              0.000000                725.0   \n",
       "140805                     241              0.000000                278.0   \n",
       "140807                     241              0.000000              39812.0   \n",
       "\n",
       "        recent_sub_count  abs_difficulty_offset  \n",
       "0                     27                  841.0  \n",
       "1                     26                  341.0  \n",
       "2                     25                  941.0  \n",
       "3                     24                 1841.0  \n",
       "4                     23                 1641.0  \n",
       "...                  ...                    ...  \n",
       "140802                 6                  384.0  \n",
       "140803                 5                   16.0  \n",
       "140804                 4                   16.0  \n",
       "140805                 3                   16.0  \n",
       "140807                 1                  416.0  \n",
       "\n",
       "[104569 rows x 9 columns]"
      ]
     },
     "execution_count": 44,
     "metadata": {},
     "output_type": "execute_result"
    }
   ],
   "source": [
    "X"
   ]
  },
  {
   "cell_type": "code",
   "execution_count": 45,
   "id": "3bb803a6",
   "metadata": {},
   "outputs": [
    {
     "data": {
      "text/plain": [
       "problem_rating            0\n",
       "rating_diff               0\n",
       "user_rating               0\n",
       "user_success_rate         0\n",
       "user_total_submissions    0\n",
       "avg_tag_success_rate      0\n",
       "time_since_last_sub       0\n",
       "recent_sub_count          0\n",
       "abs_difficulty_offset     0\n",
       "dtype: int64"
      ]
     },
     "execution_count": 45,
     "metadata": {},
     "output_type": "execute_result"
    }
   ],
   "source": [
    "X.isna().sum()\n"
   ]
  },
  {
   "cell_type": "code",
   "execution_count": 46,
   "id": "train-model",
   "metadata": {},
   "outputs": [
    {
     "name": "stdout",
     "output_type": "stream",
     "text": [
      "Model accuracy: 0.66\n"
     ]
    }
   ],
   "source": [
    "# Split data into training and test sets\n",
    "X_train, X_test, y_train, y_test = train_test_split(X, y, test_size=0.3, random_state=42, stratify=y)\n",
    "\n",
    "# Train a Logistic Regression model\n",
    "model = XGBClassifier()\n",
    "model.fit(X_train, y_train)\n",
    "\n",
    "# Predict on test set\n",
    "y_pred = model.predict(X_test)\n",
    "from sklearn.metrics import r2_score\n",
    "\n",
    "# # Evaluate R² score instead of accuracy\n",
    "# r2 = r2_score(y_test, y_pred)\n",
    "# print(f\"Model R² score: {r2:.2f}\")\n",
    "\n",
    "\n",
    "# Evaluate accuracy\n",
    "accuracy = accuracy_score(y_test, y_pred)\n",
    "print(f\"Model accuracy: {accuracy:.2f}\")"
   ]
  },
  {
   "cell_type": "code",
   "execution_count": 47,
   "id": "confusion-matrix",
   "metadata": {},
   "outputs": [
    {
     "name": "stdout",
     "output_type": "stream",
     "text": [
      "              precision    recall  f1-score   support\n",
      "\n",
      "           0       0.65      0.67      0.66     15248\n",
      "           1       0.68      0.66      0.67     16123\n",
      "\n",
      "    accuracy                           0.66     31371\n",
      "   macro avg       0.66      0.66      0.66     31371\n",
      "weighted avg       0.66      0.66      0.66     31371\n",
      "\n"
     ]
    },
    {
     "data": {
      "image/png": "[encoded data removed]",
      "text/plain": [
       "<Figure size 640x480 with 2 Axes>"
      ]
     },
     "metadata": {},
     "output_type": "display_data"
    }
   ],
   "source": [
    "#  print classification report\n",
    "from sklearn.metrics import classification_report\n",
    "print(classification_report(y_test, y_pred))\n",
    "\n",
    "\n",
    "# Compute and display the confusion matrix\n",
    "cm = confusion_matrix(y_test, y_pred)\n",
    "disp = ConfusionMatrixDisplay(confusion_matrix=cm)\n",
    "disp.plot(cmap=plt.cm.Blues)\n",
    "plt.title('Confusion Matrix')\n",
    "plt.show()\n"
   ]
  }
 ],
 "metadata": {
  "kernelspec": {
   "display_name": "venv",
   "language": "python",
   "name": "python3"
  },
  "language_info": {
   "codemirror_mode": {
    "name": "ipython",
    "version": 3
   },
   "file_extension": ".py",
   "mimetype": "text/x-python",
   "name": "python",
   "nbconvert_exporter": "python",
   "pygments_lexer": "ipython3",
   "version": "3.12.9"
  }
 },
 "nbformat": 4,
 "nbformat_minor": 5
}
